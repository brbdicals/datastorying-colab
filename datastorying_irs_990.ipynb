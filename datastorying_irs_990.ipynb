{
  "nbformat": 4,
  "nbformat_minor": 0,
  "metadata": {
    "colab": {
      "name": "datastorying-irs-990.ipynb",
      "provenance": [],
      "authorship_tag": "ABX9TyNH+viGpQAmPdgHnpQ4trKU",
      "include_colab_link": true
    },
    "kernelspec": {
      "name": "python3",
      "display_name": "Python 3"
    },
    "language_info": {
      "name": "python"
    }
  },
  "cells": [
    {
      "cell_type": "markdown",
      "metadata": {
        "id": "view-in-github",
        "colab_type": "text"
      },
      "source": [
        "<a href=\"https://colab.research.google.com/github/brbdicals/datastorying-colab/blob/main/datastorying_irs_990.ipynb\" target=\"_parent\"><img src=\"https://colab.research.google.com/assets/colab-badge.svg\" alt=\"Open In Colab\"/></a>"
      ]
    },
    {
      "cell_type": "markdown",
      "metadata": {
        "id": "ba1L-s5qHiBh"
      },
      "source": [
        "Capturing data from an AWS S3 source set up by IRS. Content discovered via NYT github."
      ]
    },
    {
      "cell_type": "code",
      "metadata": {
        "id": "MhvSry5vHebu"
      },
      "source": [
        ""
      ],
      "execution_count": null,
      "outputs": []
    }
  ]
}