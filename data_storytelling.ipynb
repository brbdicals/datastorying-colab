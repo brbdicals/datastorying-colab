{
  "nbformat": 4,
  "nbformat_minor": 2,
  "metadata": {
    "colab": {
      "name": "data-storytelling.ipynb",
      "provenance": [],
      "authorship_tag": "ABX9TyNysBJghmkk39DeDYD+bGS0",
      "include_colab_link": true
    },
    "kernelspec": {
      "name": "python3",
      "display_name": "Python 3"
    },
    "language_info": {
      "name": "python"
    }
  },
  "cells": [
    {
      "cell_type": "markdown",
      "source": [
        "<a href=\"https://colab.research.google.com/github/noahgift/datastorying-colab/blob/main/data_storytelling.ipynb\" target=\"_parent\"><img src=\"https://colab.research.google.com/assets/colab-badge.svg\" alt=\"Open In Colab\"/></a>"
      ],
      "metadata": {
        "id": "view-in-github",
        "colab_type": "text"
      }
    },
    {
      "cell_type": "markdown",
      "source": [
        "# Storytelling"
      ],
      "metadata": {
        "id": "AUpu-O_cI1gO"
      }
    },
    {
      "cell_type": "markdown",
      "source": [
        "This is how you use colab.\n",
        "\n",
        "![colab](https://user-images.githubusercontent.com/58792/132075761-4b6d2682-00f2-4622-a926-6b098403ac0b.png)"
      ],
      "metadata": {
        "id": "cftBLBIFJAX_"
      }
    },
    {
      "cell_type": "code",
      "execution_count": null,
      "source": [],
      "outputs": [],
      "metadata": {
        "id": "aBK3ClpaIcAT"
      }
    },
    {
      "cell_type": "markdown",
      "source": [
        "## Ingest"
      ],
      "metadata": {
        "id": "66_J0eV-I5uh"
      }
    },
    {
      "cell_type": "code",
      "execution_count": null,
      "source": [],
      "outputs": [],
      "metadata": {
        "id": "s7LB95BkI60R"
      }
    },
    {
      "cell_type": "markdown",
      "source": [
        "## EDA"
      ],
      "metadata": {
        "id": "W-YfqixMI7LW"
      }
    },
    {
      "cell_type": "code",
      "execution_count": null,
      "source": [],
      "outputs": [],
      "metadata": {
        "id": "GgJyowe6I8SA"
      }
    },
    {
      "cell_type": "markdown",
      "source": [
        "## Modeling"
      ],
      "metadata": {
        "id": "H2OsA37NI82s"
      }
    },
    {
      "cell_type": "code",
      "execution_count": null,
      "source": [],
      "outputs": [],
      "metadata": {
        "id": "DnTfkG8lI-GQ"
      }
    },
    {
      "cell_type": "markdown",
      "source": [
        "## Conclusion"
      ],
      "metadata": {
        "id": "Z-VEMIUBI-gR"
      }
    },
    {
      "cell_type": "code",
      "execution_count": null,
      "source": [],
      "outputs": [],
      "metadata": {
        "id": "5xNLA_OrI_ng"
      }
    }
  ]
}